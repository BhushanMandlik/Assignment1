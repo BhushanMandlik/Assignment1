{
 "cells": [
  {
   "cell_type": "markdown",
   "metadata": {},
   "source": [
    "# Questions 1"
   ]
  },
  {
   "cell_type": "markdown",
   "metadata": {},
   "source": [
    "Find the value of the following questions, Where x=5\n",
    "\n",
    "● (2x+5/x^2+5x+6)\n",
    "● (x^2+5x+6/2x+5)\n",
    "● (2x-3)(x-9)"
   ]
  },
  {
   "cell_type": "code",
   "execution_count": 1,
   "metadata": {},
   "outputs": [
    {
     "name": "stdout",
     "output_type": "stream",
     "text": [
      "41.2\n",
      "70.0\n",
      "-28\n"
     ]
    }
   ],
   "source": [
    "x = 5\n",
    "e1 = 2*x+(5/x**2)+5*x+6\n",
    "e2 = x**2+5*x+(6/2*x)+5\n",
    "e3 = (2*x-3)*(x-9)\n",
    "print(e1)\n",
    "print(e2)\n",
    "print(e3)"
   ]
  },
  {
   "cell_type": "markdown",
   "metadata": {},
   "source": [
    "# Questions 2"
   ]
  },
  {
   "cell_type": "markdown",
   "metadata": {},
   "source": [
    "Create a username and password login file using nested while loop"
   ]
  },
  {
   "cell_type": "code",
   "execution_count": 2,
   "metadata": {},
   "outputs": [
    {
     "name": "stdout",
     "output_type": "stream",
     "text": [
      "Enter Username:root\n",
      "Enter Password:123\n",
      "Login Failed...\n",
      "Enter Username:root\n",
      "Enter Password:12345\n",
      "Login Successfully...\n"
     ]
    }
   ],
   "source": [
    "username = 'root'\n",
    "password = '12345'\n",
    "while True:\n",
    "    input1 = input('Enter Username:')\n",
    "    input2 = input('Enter Password:')\n",
    "    if(input1==username and input2==password):\n",
    "        print('Login Successfully...')\n",
    "        break\n",
    "    else:\n",
    "        print('Login Failed...')"
   ]
  }
 ],
 "metadata": {
  "kernelspec": {
   "display_name": "Python 3",
   "language": "python",
   "name": "python3"
  },
  "language_info": {
   "codemirror_mode": {
    "name": "ipython",
    "version": 3
   },
   "file_extension": ".py",
   "mimetype": "text/x-python",
   "name": "python",
   "nbconvert_exporter": "python",
   "pygments_lexer": "ipython3",
   "version": "3.7.4"
  }
 },
 "nbformat": 4,
 "nbformat_minor": 4
}
